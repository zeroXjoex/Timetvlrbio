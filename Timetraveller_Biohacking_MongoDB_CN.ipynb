{
 "cells": [
  {
   "cell_type": "code",
   "execution_count": 6,
   "id": "1b30466d",
   "metadata": {},
   "outputs": [],
   "source": [
    "import pymongo\n",
    "from urllib.parse import quote_plus\n",
    "\n",
    "# Set your MongoDB Atlas connection details\n",
    "username = quote_plus('0xjoex')\n",
    "password = quote_plus('Joyel@2480')\n",
    "cluster = 'cluster0.loox4jh.mongodb.net'\n",
    "authSource = 'admin'  # Use 'admin' as the authentication source\n",
    "authMechanism = 'SCRAM-SHA-1'  # Use 'SCRAM-SHA-1' as the authentication mechanism\n",
    "\n",
    "# Construct the connection URI\n",
    "uri = f\"mongodb+srv://{username}:{password}@{cluster}/?authSource={authSource}&authMechanism={authMechanism}\"\n",
    "\n",
    "# Create a MongoClient and access your database and collection\n",
    "client = pymongo.MongoClient(uri)\n",
    "db = client['Timetravelerxjoex']\n",
    "collection = db['Biohacking']\n",
    "\n",
    "# Retrieve and print results\n",
    "result = collection.find()\n",
    "\n",
    "for document in result:\n",
    "    print(document)\n"
   ]
  },
  {
   "cell_type": "code",
   "execution_count": 7,
   "id": "6c581e3f",
   "metadata": {},
   "outputs": [],
   "source": [
    "import pymongo\n",
    "from urllib.parse import quote_plus"
   ]
  },
  {
   "cell_type": "code",
   "execution_count": 8,
   "id": "3bb1b316",
   "metadata": {},
   "outputs": [],
   "source": [
    "username = quote_plus('0xjoex')\n",
    "password = quote_plus('Joyel@2480')\n",
    "cluster = 'cluster0.loox4jh.mongodb.net'\n",
    "authSource = 'admin'  \n",
    "authMechanism = 'SCRAM-SHA-1'  "
   ]
  },
  {
   "cell_type": "code",
   "execution_count": 9,
   "id": "9f7d0075",
   "metadata": {},
   "outputs": [],
   "source": [
    "uri = f\"mongodb+srv://{username}:{password}@{cluster}/?authSource={authSource}&authMechanism={authMechanism}\""
   ]
  },
  {
   "cell_type": "code",
   "execution_count": 10,
   "id": "79150e21",
   "metadata": {},
   "outputs": [],
   "source": [
    "client = pymongo.MongoClient(uri)\n",
    "db = client['Timetravelerxjoex']\n",
    "collection = db['Biohacking']"
   ]
  },
  {
   "cell_type": "code",
   "execution_count": 11,
   "id": "f1177973",
   "metadata": {},
   "outputs": [],
   "source": [
    "# Sample data for liver function tests\n",
    "liver_function_data = [\n",
    "    {\n",
    "        \"patient_name\": \"Alice Johnson\",\n",
    "        \"age\": 40,\n",
    "        \"test_date\": \"2023-11-03\",\n",
    "        \"alt_level\": 25.7,  # Sample ALT (Alanine Aminotransferase) level\n",
    "        \"ast_level\": 32.4,  # Sample AST (Aspartate Aminotransferase) level\n",
    "        \"bilirubin_level\": 1.1,  # Sample Bilirubin level\n",
    "    },\n",
    "    {\n",
    "        \"patient_name\": \"Bob Smith\",\n",
    "        \"age\": 35,\n",
    "        \"test_date\": \"2023-11-03\",\n",
    "        \"alt_level\": 30.1,\n",
    "        \"ast_level\": 28.5,\n",
    "        \"bilirubin_level\": 0.9,\n",
    "    },\n",
    "    {\n",
    "        \"patient_name\": \"Charlie Brown\",\n",
    "        \"age\": 45,\n",
    "        \"test_date\": \"2023-11-03\",\n",
    "        \"alt_level\": 27.8,\n",
    "        \"ast_level\": 34.2,\n",
    "        \"bilirubin_level\": 1.2,\n",
    "    },\n",
    "]"
   ]
  },
  {
   "cell_type": "code",
   "execution_count": 12,
   "id": "918276d5",
   "metadata": {},
   "outputs": [
    {
     "data": {
      "text/plain": [
       "InsertManyResult([ObjectId('6549a43659e3ac2199cad94e'), ObjectId('6549a43659e3ac2199cad94f'), ObjectId('6549a43659e3ac2199cad950')], acknowledged=True)"
      ]
     },
     "execution_count": 12,
     "metadata": {},
     "output_type": "execute_result"
    }
   ],
   "source": [
    "# Insert the liver function test data\n",
    "collection.insert_many(liver_function_data)"
   ]
  },
  {
   "cell_type": "code",
   "execution_count": 13,
   "id": "3fe1f973",
   "metadata": {},
   "outputs": [
    {
     "name": "stdout",
     "output_type": "stream",
     "text": [
      "{'_id': ObjectId('6549a43659e3ac2199cad94e'), 'patient_name': 'Alice Johnson', 'age': 40, 'test_date': '2023-11-03', 'alt_level': 25.7, 'ast_level': 32.4, 'bilirubin_level': 1.1}\n",
      "{'_id': ObjectId('6549a43659e3ac2199cad94f'), 'patient_name': 'Bob Smith', 'age': 35, 'test_date': '2023-11-03', 'alt_level': 30.1, 'ast_level': 28.5, 'bilirubin_level': 0.9}\n",
      "{'_id': ObjectId('6549a43659e3ac2199cad950'), 'patient_name': 'Charlie Brown', 'age': 45, 'test_date': '2023-11-03', 'alt_level': 27.8, 'ast_level': 34.2, 'bilirubin_level': 1.2}\n"
     ]
    }
   ],
   "source": [
    "result = collection.find()\n",
    "for document in result:\n",
    "    print(document)"
   ]
  },
  {
   "cell_type": "code",
   "execution_count": 15,
   "id": "91557026",
   "metadata": {},
   "outputs": [
    {
     "name": "stdout",
     "output_type": "stream",
     "text": [
      "{'_id': ObjectId('6549a43659e3ac2199cad94e'), 'patient_name': 'Alice Johnson', 'age': 40, 'test_date': '2023-11-03', 'alt_level': 25.7, 'ast_level': 32.4, 'bilirubin_level': 1.1}\n",
      "{'_id': ObjectId('6549a43659e3ac2199cad94f'), 'patient_name': 'Bob Smith', 'age': 35, 'test_date': '2023-11-03', 'alt_level': 30.1, 'ast_level': 28.5, 'bilirubin_level': 0.9}\n",
      "{'_id': ObjectId('6549a43659e3ac2199cad950'), 'patient_name': 'Charlie Brown', 'age': 45, 'test_date': '2023-11-03', 'alt_level': 27.8, 'ast_level': 34.2, 'bilirubin_level': 1.2}\n"
     ]
    }
   ],
   "source": [
    "result = collection.find({\"age\": {\"$gte\": 35, \"$lte\": 45}})\n",
    "\n",
    "for document in result:\n",
    "    print(document)"
   ]
  },
  {
   "cell_type": "code",
   "execution_count": 16,
   "id": "7e171f59",
   "metadata": {},
   "outputs": [
    {
     "name": "stdout",
     "output_type": "stream",
     "text": [
      "{'_id': ObjectId('6549a43659e3ac2199cad94f'), 'patient_name': 'Bob Smith', 'age': 35, 'test_date': '2023-11-03', 'alt_level': 30.1, 'ast_level': 29.5, 'bilirubin_level': 0.9}\n"
     ]
    }
   ],
   "source": [
    "# Update AST level for Bob Smith\n",
    "query = {\"patient_name\": \"Bob Smith\"}\n",
    "update = {\"$set\": {\"ast_level\": 29.5}}\n",
    "collection.update_one(query, update)\n",
    "\n",
    "# Verify the update\n",
    "updated_bob = collection.find_one(query)\n",
    "print(updated_bob)"
   ]
  },
  {
   "cell_type": "code",
   "execution_count": 17,
   "id": "c5083ff6",
   "metadata": {},
   "outputs": [
    {
     "data": {
      "text/plain": [
       "'test_date_1'"
      ]
     },
     "execution_count": 17,
     "metadata": {},
     "output_type": "execute_result"
    }
   ],
   "source": [
    "# Create an index on the 'test_date' field\n",
    "collection.create_index([(\"test_date\", pymongo.ASCENDING)])"
   ]
  },
  {
   "cell_type": "code",
   "execution_count": null,
   "id": "4e63b99e",
   "metadata": {},
   "outputs": [],
   "source": []
  }
 ],
 "metadata": {
  "kernelspec": {
   "display_name": "Python 3 (ipykernel)",
   "language": "python",
   "name": "python3"
  },
  "language_info": {
   "codemirror_mode": {
    "name": "ipython",
    "version": 3
   },
   "file_extension": ".py",
   "mimetype": "text/x-python",
   "name": "python",
   "nbconvert_exporter": "python",
   "pygments_lexer": "ipython3",
   "version": "3.9.12"
  }
 },
 "nbformat": 4,
 "nbformat_minor": 5
}
